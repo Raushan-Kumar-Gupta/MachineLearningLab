{
  "nbformat": 4,
  "nbformat_minor": 0,
  "metadata": {
    "colab": {
      "provenance": []
    },
    "kernelspec": {
      "name": "python3",
      "display_name": "Python 3"
    },
    "language_info": {
      "name": "python"
    }
  },
  "cells": [
    {
      "cell_type": "markdown",
      "source": [
        "## Name: Raushan [bl.en.u4cse22086]"
      ],
      "metadata": {
        "id": "i3JAqK61fU9o"
      }
    },
    {
      "cell_type": "code",
      "source": [
        "### 1. Count no of vowel and consonent in given string"
      ],
      "metadata": {
        "id": "pBKDtXKlfZ7X"
      },
      "execution_count": null,
      "outputs": []
    },
    {
      "cell_type": "code",
      "source": [
        "str1=input('enter the string=')\n",
        "v_cnt=0\n",
        "c_cnt=0\n",
        "list=['a','A','e','E','i','I','o','O','u','U']\n",
        "for i in str1:\n",
        "    if(i in list):\n",
        "        v_cnt=v_cnt+1\n",
        "    else:\n",
        "        c_cnt=c_cnt+1;\n",
        "print('Total vowel=', v_cnt)\n",
        "print('Total consonent=', c_cnt)"
      ],
      "metadata": {
        "colab": {
          "base_uri": "https://localhost:8080/"
        },
        "id": "MrjW2nPgfi3m",
        "outputId": "3c5afdd1-1d0c-43bb-e816-81c73f24672a"
      },
      "execution_count": null,
      "outputs": [
        {
          "output_type": "stream",
          "name": "stdout",
          "text": [
            "enter the string=raushan\n",
            "Total vowel= 3\n",
            "Total consonent= 4\n"
          ]
        }
      ]
    },
    {
      "cell_type": "code",
      "source": [
        "### 2.Take 2 matrix and multiply it if possible"
      ],
      "metadata": {
        "id": "QAUzRTTCflLQ"
      },
      "execution_count": null,
      "outputs": []
    },
    {
      "cell_type": "code",
      "source": [
        "# function for  input\n",
        "\n",
        "def takeInput():\n",
        "    m = int(input('Enter the number of rows: '))\n",
        "    n = int(input('Enter the number of columns: '))\n",
        "    ll = []\n",
        "\n",
        "    for i in range(m):\n",
        "        l = []\n",
        "        for j in range(n):\n",
        "            value = int(input(f'Enter the value for element [{i+1},{j+1}]: '))\n",
        "            l.append(value)\n",
        "        ll.append(l)\n",
        "    return ll"
      ],
      "metadata": {
        "id": "OyiYMVcUfok-"
      },
      "execution_count": null,
      "outputs": []
    },
    {
      "cell_type": "code",
      "source": [
        "#  taking two matrix input\n",
        "\n",
        "print(\"first matrix:\")\n",
        "matrix1 = takeInput()\n",
        "\n",
        "print(\"second matrix:\")\n",
        "matrix2 = takeInput()\n",
        "\n",
        "print(\"Matrix 1:\")\n",
        "for row in matrix1:\n",
        "    print(row)\n",
        "\n",
        "print(\"Matrix 2:\")\n",
        "for row in matrix2:\n",
        "    print(row)"
      ],
      "metadata": {
        "colab": {
          "base_uri": "https://localhost:8080/"
        },
        "id": "VkBeLJasfsKW",
        "outputId": "3c49178f-40b4-4cb9-d0ee-242d11f222fb"
      },
      "execution_count": null,
      "outputs": [
        {
          "output_type": "stream",
          "name": "stdout",
          "text": [
            "first matrix:\n",
            "Enter the number of rows: 1\n",
            "Enter the number of columns: 1\n",
            "Enter the value for element [1,1]: 1\n",
            "second matrix:\n",
            "Enter the number of rows: 1\n",
            "Enter the number of columns: 1\n",
            "Enter the value for element [1,1]: 1\n",
            "Matrix 1:\n",
            "[1]\n",
            "Matrix 2:\n",
            "[1]\n"
          ]
        }
      ]
    },
    {
      "cell_type": "code",
      "source": [
        "# multiplication code\n",
        "\n",
        "if len(matrix1[0]) != len(matrix2):\n",
        "    raise ValueError(\"Incompatible matrix dimensions for multiplication.\")\n",
        "\n",
        "m = len(matrix1)\n",
        "n = len(matrix2[0])\n",
        "result = [[0] * n for _ in range(m)]\n",
        "\n",
        "for i in range(m):\n",
        "    for j in range(n):\n",
        "        for k in range(len(matrix2)):\n",
        "            result[i][j] += matrix1[i][k] * matrix2[k][j]\n",
        "\n",
        "print(\"Result Matrix:\")\n",
        "for row in result:\n",
        "    print(row)\n"
      ],
      "metadata": {
        "colab": {
          "base_uri": "https://localhost:8080/"
        },
        "id": "9Xx8PT3nfuj-",
        "outputId": "6e0b6185-bf7a-45fe-f450-2b137fbebb60"
      },
      "execution_count": null,
      "outputs": [
        {
          "output_type": "stream",
          "name": "stdout",
          "text": [
            "Result Matrix:\n",
            "[1]\n"
          ]
        }
      ]
    },
    {
      "cell_type": "code",
      "source": [
        "### 3. No of common element in 2 list of integer also print the common value\n"
      ],
      "metadata": {
        "id": "5wiPzu8BfzMt"
      },
      "execution_count": null,
      "outputs": []
    },
    {
      "cell_type": "code",
      "source": [
        "# function to print common item\n",
        "\n",
        "def common_member(a, b):\n",
        "    result = [i for i in a if i in b]\n",
        "    return result"
      ],
      "metadata": {
        "id": "XHVrdyeGf1Vt"
      },
      "execution_count": null,
      "outputs": []
    },
    {
      "cell_type": "code",
      "source": [
        "#  taking two list from user\n",
        "\n",
        "n1=int(input('enter list 1 size ='))\n",
        "l1=[int(input()) for i in range(n1)]\n",
        "\n",
        "n2=int(input('enter list 2 size ='))\n",
        "l2=[int(input()) for i in range(n2)]\n",
        "print(l1)\n",
        "print(l2)\n",
        "common_value=common_member(l1, l2)\n",
        "print('No of common element=',len(common_value))\n",
        "print('values:',common_value)\n",
        "1\n"
      ],
      "metadata": {
        "colab": {
          "base_uri": "https://localhost:8080/"
        },
        "id": "ym277vwHf4BW",
        "outputId": "3a07a41c-69b8-467f-d07e-4cfc80d0f832"
      },
      "execution_count": null,
      "outputs": [
        {
          "output_type": "stream",
          "name": "stdout",
          "text": [
            "enter list 1 size =1\n",
            "1\n",
            "enter list 2 size =1\n",
            "1\n",
            "[1]\n",
            "[1]\n",
            "No of common element= 1\n",
            "values: [1]\n"
          ]
        }
      ]
    },
    {
      "cell_type": "code",
      "source": [
        "### 4. take matrix\n",
        "### matrix as input and return transponse\n",
        "\n",
        "# function for  input\n",
        "\n",
        "def takeInput():\n",
        "    m = int(input('Enter the number of rows: '))\n",
        "    n = int(input('Enter the number of columns: '))\n",
        "    ll = []\n",
        "\n",
        "    for i in range(m):\n",
        "        l = []\n",
        "        for j in range(n):\n",
        "            value = int(input(f'Enter the value for element [{i+1},{j+1}]: '))\n",
        "            l.append(value)\n",
        "        ll.append(l)\n",
        "    return ll"
      ],
      "metadata": {
        "id": "e0Yn27FHgh_H"
      },
      "execution_count": null,
      "outputs": []
    },
    {
      "cell_type": "code",
      "source": [
        "#  taking two matrix input\n",
        "\n",
        "print(\"first matrix:\")\n",
        "matrix1 = takeInput()"
      ],
      "metadata": {
        "colab": {
          "base_uri": "https://localhost:8080/"
        },
        "id": "YhuGMxNOgkzO",
        "outputId": "07079b06-f08e-4353-b8e2-1cf97b9e99eb"
      },
      "execution_count": null,
      "outputs": [
        {
          "name": "stdout",
          "output_type": "stream",
          "text": [
            "first matrix:\n",
            "Enter the number of rows: 2\n",
            "Enter the number of columns: 2\n",
            "Enter the value for element [1,1]: 1\n",
            "Enter the value for element [1,2]: 2\n",
            "Enter the value for element [2,1]: 3\n",
            "Enter the value for element [2,2]: 4\n"
          ]
        }
      ]
    },
    {
      "cell_type": "code",
      "source": [
        "m = len(matrix1)\n",
        "n = len(matrix1[0])\n",
        "print(matrix1)\n",
        "result = [[0] * m for _ in range(n)]\n",
        "for i in range(m):\n",
        "    for j in range(n):\n",
        "      result[j][i]=matrix1[i][j]\n",
        "print('transpose:\\n',result)"
      ],
      "metadata": {
        "colab": {
          "base_uri": "https://localhost:8080/"
        },
        "id": "I__gq-hKhinG",
        "outputId": "995a4cab-3b92-4c6c-8bcb-16c4e735b29e"
      },
      "execution_count": 21,
      "outputs": [
        {
          "output_type": "stream",
          "name": "stdout",
          "text": [
            "[[1, 2], [3, 4]]\n",
            "transpose:\n",
            " [[1, 3], [2, 4]]\n"
          ]
        }
      ]
    }
  ]
}
