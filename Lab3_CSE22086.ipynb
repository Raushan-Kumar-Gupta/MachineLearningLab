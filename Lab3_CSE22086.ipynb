{
 "cells": [
  {
   "cell_type": "code",
   "execution_count": 1,
   "id": "b28a32ca-e94d-4f9f-bb6c-00e50df3177c",
   "metadata": {},
   "outputs": [],
   "source": [
    "import pandas as pd\n",
    "import numpy  as np"
   ]
  },
  {
   "cell_type": "code",
   "execution_count": 2,
   "id": "01d2949d-8468-4470-9995-bcdf2af08255",
   "metadata": {
    "scrolled": true
   },
   "outputs": [
    {
     "ename": "FileNotFoundError",
     "evalue": "[Errno 2] No such file or directory: './dataset/P1/val_aro.xls'",
     "output_type": "error",
     "traceback": [
      "\u001b[1;31m---------------------------------------------------------------------------\u001b[0m",
      "\u001b[1;31mFileNotFoundError\u001b[0m                         Traceback (most recent call last)",
      "Cell \u001b[1;32mIn[2], line 6\u001b[0m\n\u001b[0;32m      4\u001b[0m \u001b[38;5;28;01mif\u001b[39;00m j \u001b[38;5;241m==\u001b[39m \u001b[38;5;241m24\u001b[39m:\n\u001b[0;32m      5\u001b[0m     \u001b[38;5;28;01mcontinue\u001b[39;00m\n\u001b[1;32m----> 6\u001b[0m data \u001b[38;5;241m=\u001b[39m pd\u001b[38;5;241m.\u001b[39mread_excel(\u001b[38;5;124mf\u001b[39m\u001b[38;5;124m\"\u001b[39m\u001b[38;5;124m./dataset/P\u001b[39m\u001b[38;5;132;01m{\u001b[39;00mj\u001b[38;5;132;01m}\u001b[39;00m\u001b[38;5;124m/val_aro.xls\u001b[39m\u001b[38;5;124m\"\u001b[39m)\n\u001b[0;32m      7\u001b[0m extracted_rows \u001b[38;5;241m=\u001b[39m data\u001b[38;5;241m.\u001b[39miloc[rows,:]\n\u001b[0;32m      8\u001b[0m df \u001b[38;5;241m=\u001b[39m pd\u001b[38;5;241m.\u001b[39mconcat([df, extracted_rows], ignore_index\u001b[38;5;241m=\u001b[39m\u001b[38;5;28;01mTrue\u001b[39;00m)\n",
      "File \u001b[1;32m~\\anaconda3\\Lib\\site-packages\\pandas\\io\\excel\\_base.py:504\u001b[0m, in \u001b[0;36mread_excel\u001b[1;34m(io, sheet_name, header, names, index_col, usecols, dtype, engine, converters, true_values, false_values, skiprows, nrows, na_values, keep_default_na, na_filter, verbose, parse_dates, date_parser, date_format, thousands, decimal, comment, skipfooter, storage_options, dtype_backend, engine_kwargs)\u001b[0m\n\u001b[0;32m    502\u001b[0m \u001b[38;5;28;01mif\u001b[39;00m \u001b[38;5;129;01mnot\u001b[39;00m \u001b[38;5;28misinstance\u001b[39m(io, ExcelFile):\n\u001b[0;32m    503\u001b[0m     should_close \u001b[38;5;241m=\u001b[39m \u001b[38;5;28;01mTrue\u001b[39;00m\n\u001b[1;32m--> 504\u001b[0m     io \u001b[38;5;241m=\u001b[39m ExcelFile(\n\u001b[0;32m    505\u001b[0m         io,\n\u001b[0;32m    506\u001b[0m         storage_options\u001b[38;5;241m=\u001b[39mstorage_options,\n\u001b[0;32m    507\u001b[0m         engine\u001b[38;5;241m=\u001b[39mengine,\n\u001b[0;32m    508\u001b[0m         engine_kwargs\u001b[38;5;241m=\u001b[39mengine_kwargs,\n\u001b[0;32m    509\u001b[0m     )\n\u001b[0;32m    510\u001b[0m \u001b[38;5;28;01melif\u001b[39;00m engine \u001b[38;5;129;01mand\u001b[39;00m engine \u001b[38;5;241m!=\u001b[39m io\u001b[38;5;241m.\u001b[39mengine:\n\u001b[0;32m    511\u001b[0m     \u001b[38;5;28;01mraise\u001b[39;00m \u001b[38;5;167;01mValueError\u001b[39;00m(\n\u001b[0;32m    512\u001b[0m         \u001b[38;5;124m\"\u001b[39m\u001b[38;5;124mEngine should not be specified when passing \u001b[39m\u001b[38;5;124m\"\u001b[39m\n\u001b[0;32m    513\u001b[0m         \u001b[38;5;124m\"\u001b[39m\u001b[38;5;124man ExcelFile - ExcelFile already has the engine set\u001b[39m\u001b[38;5;124m\"\u001b[39m\n\u001b[0;32m    514\u001b[0m     )\n",
      "File \u001b[1;32m~\\anaconda3\\Lib\\site-packages\\pandas\\io\\excel\\_base.py:1563\u001b[0m, in \u001b[0;36mExcelFile.__init__\u001b[1;34m(self, path_or_buffer, engine, storage_options, engine_kwargs)\u001b[0m\n\u001b[0;32m   1561\u001b[0m     ext \u001b[38;5;241m=\u001b[39m \u001b[38;5;124m\"\u001b[39m\u001b[38;5;124mxls\u001b[39m\u001b[38;5;124m\"\u001b[39m\n\u001b[0;32m   1562\u001b[0m \u001b[38;5;28;01melse\u001b[39;00m:\n\u001b[1;32m-> 1563\u001b[0m     ext \u001b[38;5;241m=\u001b[39m inspect_excel_format(\n\u001b[0;32m   1564\u001b[0m         content_or_path\u001b[38;5;241m=\u001b[39mpath_or_buffer, storage_options\u001b[38;5;241m=\u001b[39mstorage_options\n\u001b[0;32m   1565\u001b[0m     )\n\u001b[0;32m   1566\u001b[0m     \u001b[38;5;28;01mif\u001b[39;00m ext \u001b[38;5;129;01mis\u001b[39;00m \u001b[38;5;28;01mNone\u001b[39;00m:\n\u001b[0;32m   1567\u001b[0m         \u001b[38;5;28;01mraise\u001b[39;00m \u001b[38;5;167;01mValueError\u001b[39;00m(\n\u001b[0;32m   1568\u001b[0m             \u001b[38;5;124m\"\u001b[39m\u001b[38;5;124mExcel file format cannot be determined, you must specify \u001b[39m\u001b[38;5;124m\"\u001b[39m\n\u001b[0;32m   1569\u001b[0m             \u001b[38;5;124m\"\u001b[39m\u001b[38;5;124man engine manually.\u001b[39m\u001b[38;5;124m\"\u001b[39m\n\u001b[0;32m   1570\u001b[0m         )\n",
      "File \u001b[1;32m~\\anaconda3\\Lib\\site-packages\\pandas\\io\\excel\\_base.py:1419\u001b[0m, in \u001b[0;36minspect_excel_format\u001b[1;34m(content_or_path, storage_options)\u001b[0m\n\u001b[0;32m   1416\u001b[0m \u001b[38;5;28;01mif\u001b[39;00m \u001b[38;5;28misinstance\u001b[39m(content_or_path, \u001b[38;5;28mbytes\u001b[39m):\n\u001b[0;32m   1417\u001b[0m     content_or_path \u001b[38;5;241m=\u001b[39m BytesIO(content_or_path)\n\u001b[1;32m-> 1419\u001b[0m \u001b[38;5;28;01mwith\u001b[39;00m get_handle(\n\u001b[0;32m   1420\u001b[0m     content_or_path, \u001b[38;5;124m\"\u001b[39m\u001b[38;5;124mrb\u001b[39m\u001b[38;5;124m\"\u001b[39m, storage_options\u001b[38;5;241m=\u001b[39mstorage_options, is_text\u001b[38;5;241m=\u001b[39m\u001b[38;5;28;01mFalse\u001b[39;00m\n\u001b[0;32m   1421\u001b[0m ) \u001b[38;5;28;01mas\u001b[39;00m handle:\n\u001b[0;32m   1422\u001b[0m     stream \u001b[38;5;241m=\u001b[39m handle\u001b[38;5;241m.\u001b[39mhandle\n\u001b[0;32m   1423\u001b[0m     stream\u001b[38;5;241m.\u001b[39mseek(\u001b[38;5;241m0\u001b[39m)\n",
      "File \u001b[1;32m~\\anaconda3\\Lib\\site-packages\\pandas\\io\\common.py:872\u001b[0m, in \u001b[0;36mget_handle\u001b[1;34m(path_or_buf, mode, encoding, compression, memory_map, is_text, errors, storage_options)\u001b[0m\n\u001b[0;32m    863\u001b[0m         handle \u001b[38;5;241m=\u001b[39m \u001b[38;5;28mopen\u001b[39m(\n\u001b[0;32m    864\u001b[0m             handle,\n\u001b[0;32m    865\u001b[0m             ioargs\u001b[38;5;241m.\u001b[39mmode,\n\u001b[1;32m   (...)\u001b[0m\n\u001b[0;32m    868\u001b[0m             newline\u001b[38;5;241m=\u001b[39m\u001b[38;5;124m\"\u001b[39m\u001b[38;5;124m\"\u001b[39m,\n\u001b[0;32m    869\u001b[0m         )\n\u001b[0;32m    870\u001b[0m     \u001b[38;5;28;01melse\u001b[39;00m:\n\u001b[0;32m    871\u001b[0m         \u001b[38;5;66;03m# Binary mode\u001b[39;00m\n\u001b[1;32m--> 872\u001b[0m         handle \u001b[38;5;241m=\u001b[39m \u001b[38;5;28mopen\u001b[39m(handle, ioargs\u001b[38;5;241m.\u001b[39mmode)\n\u001b[0;32m    873\u001b[0m     handles\u001b[38;5;241m.\u001b[39mappend(handle)\n\u001b[0;32m    875\u001b[0m \u001b[38;5;66;03m# Convert BytesIO or file objects passed with an encoding\u001b[39;00m\n",
      "\u001b[1;31mFileNotFoundError\u001b[0m: [Errno 2] No such file or directory: './dataset/P1/val_aro.xls'"
     ]
    }
   ],
   "source": [
    "df = pd.DataFrame()\n",
    "rows = [29,86,80,166]\n",
    "for j in range(1,33):\n",
    "    if j == 24:\n",
    "        continue\n",
    "    data = pd.read_excel(f\"./dataset/P{j}/val_aro.xls\")\n",
    "    extracted_rows = data.iloc[rows,:]\n",
    "    df = pd.concat([df, extracted_rows], ignore_index=True)\n",
    "df.head()"
   ]
  },
  {
   "cell_type": "code",
   "execution_count": null,
   "id": "4a529b8f-b578-4a2b-b1d5-91c13b0295e4",
   "metadata": {},
   "outputs": [],
   "source": [
    "df['class'] = df['image'].apply(lambda x: \"Pleasant\" if x in [30, 86] else \"unpleasant\")\n",
    "df.head()"
   ]
  },
  {
   "cell_type": "code",
   "execution_count": null,
   "id": "b3f1ed28-bcf8-413f-82e9-fc848387c6ef",
   "metadata": {},
   "outputs": [],
   "source": [
    "df.drop(\"image\",axis=1,inplace = True)"
   ]
  },
  {
   "cell_type": "code",
   "execution_count": null,
   "id": "6d0c1ff7-e6d1-453b-bc14-60792f9e3acb",
   "metadata": {},
   "outputs": [],
   "source": [
    "temp = df.groupby('class').mean()\n",
    "meanVec = np.array(temp)\n",
    "meanVec"
   ]
  },
  {
   "cell_type": "code",
   "execution_count": null,
   "id": "3ae06a40-c3ec-4b22-a5df-72172e1f57d1",
   "metadata": {},
   "outputs": [],
   "source": [
    "temp = df.groupby('class').std()\n",
    "stdVec = np.array(temp)\n",
    "stdVec"
   ]
  },
  {
   "cell_type": "code",
   "execution_count": null,
   "id": "a115be39-b49b-4912-a804-1499bd3dd2fc",
   "metadata": {},
   "outputs": [],
   "source": [
    "print(\"Distance:\",np.linalg.norm(meanVec[0]-meanVec[1]))"
   ]
  },
  {
   "cell_type": "code",
   "execution_count": null,
   "id": "7328f38a-bad9-4932-9bd2-dc0597c0420a",
   "metadata": {},
   "outputs": [],
   "source": [
    "import matplotlib.pyplot as plt\n",
    "feature = df['Valence_score']\n",
    "\n",
    "# Generate the histogram data (bins can be adjusted as needed)\n",
    "hist, bin_edges = np.histogram(feature, bins=5)\n",
    "\n",
    "# Plot the histogram\n",
    "plt.hist(feature, bins=5, edgecolor='black')\n",
    "plt.title('Histogram of feature1')\n",
    "plt.xlabel('Feature Value')\n",
    "plt.ylabel('Frequency')\n",
    "plt.show()\n",
    "\n",
    "# Calculate the mean and variance of the feature\n",
    "mean = np.mean(feature)\n",
    "variance = np.var(feature)\n",
    "\n",
    "print(\"Mean of feature1:\", mean)\n",
    "print(\"Variance of feature1:\", variance)"
   ]
  },
  {
   "cell_type": "code",
   "execution_count": null,
   "id": "7ebdc65b-c050-4045-a45b-24a986641649",
   "metadata": {},
   "outputs": [],
   "source": [
    "x = df['Valence_score'].values\n",
    "y = df['Arousal_score'].values\n",
    "\n",
    "# Calculate Minkowski distance for r from 1 to 10\n",
    "distances = []\n",
    "r_values = range(1, 11)\n",
    "\n",
    "for r in r_values:\n",
    "    distance = np.sum(np.abs(x - y) ** r) ** (1 / r)\n",
    "    distances.append(distance)\n",
    "\n",
    "# Plot the distances\n",
    "plt.plot(r_values, distances, marker='o')\n",
    "plt.title('Minkowski Distance for r from 1 to 10')\n",
    "plt.xlabel('r')\n",
    "plt.ylabel('Distance')\n",
    "plt.grid(True)\n",
    "plt.show()\n",
    "\n",
    "# Print the distances for each r\n",
    "for r, dist in zip(r_values, distances):\n",
    "    print(f\"Minkowski distance with r={r}: {dist}\")"
   ]
  },
  {
   "cell_type": "code",
   "execution_count": null,
   "id": "88997400-b5ab-42e5-a59b-1310404a8434",
   "metadata": {},
   "outputs": [],
   "source": [
    "from sklearn.model_selection import train_test_split\n",
    "X = df[[\"Valence_score\",\"Arousal_score\"]].values\n",
    "y = df[\"class\"].values\n",
    "X_train, X_test, y_train, y_test = train_test_split(X, y, test_size=0.3)"
   ]
  },
  {
   "cell_type": "code",
   "execution_count": null,
   "id": "1e26bf75-d123-46ca-8cf6-dced17ab2ce1",
   "metadata": {},
   "outputs": [],
   "source": [
    "from sklearn.neighbors import KNeighborsClassifier\n",
    "neigh = KNeighborsClassifier(n_neighbors=3)\n",
    "\n",
    "# Train the classifier using the training data\n",
    "neigh.fit(X_train, y_train)\n",
    "neigh.score(X_test,y_test)"
   ]
  },
  {
   "cell_type": "code",
   "execution_count": null,
   "id": "5731602c-b583-4be8-b544-290f88e15a48",
   "metadata": {},
   "outputs": [],
   "source": [
    "# # Output the model's predictions for the test set\n",
    "neigh.predict([X_test[0]])\n"
   ]
  },
  {
   "cell_type": "code",
   "execution_count": null,
   "id": "52285a4e-12fb-4dc4-b01e-ed2289921156",
   "metadata": {},
   "outputs": [],
   "source": [
    "neigh = KNeighborsClassifier(n_neighbors=1)\n",
    "\n",
    "# Train the classifier using the training data\n",
    "neigh.fit(X_train, y_train)\n",
    "neigh.score(X_test,y_test)"
   ]
  },
  {
   "cell_type": "code",
   "execution_count": null,
   "id": "c5e84063-70b4-4ff2-84f1-f239740c716f",
   "metadata": {},
   "outputs": [],
   "source": [
    "neigh.predict([X_test[0]])"
   ]
  },
  {
   "cell_type": "code",
   "execution_count": null,
   "id": "002205b2-6462-40b5-8f7e-a73dc37fb9c9",
   "metadata": {},
   "outputs": [],
   "source": [
    "from sklearn.metrics import accuracy_score\n",
    "# List to store accuracy for different values of k\n",
    "accuracies = []\n",
    "\n",
    "# Vary k from 1 to 11\n",
    "k_values = range(1, 12)\n",
    "\n",
    "for k in k_values:\n",
    "    # Create and train the kNN classifier with the current k\n",
    "    neigh = KNeighborsClassifier(n_neighbors=k)\n",
    "    neigh.fit(X_train, y_train)\n",
    "    \n",
    "    # Predict on the test set\n",
    "    y_pred = neigh.predict(X_test)\n",
    "    \n",
    "    # Calculate accuracy\n",
    "    accuracy = accuracy_score(y_test, y_pred)\n",
    "    accuracies.append(accuracy)\n",
    "\n",
    "    print(f\"Accuracy with k={k}: {accuracy}\")"
   ]
  },
  {
   "cell_type": "code",
   "execution_count": null,
   "id": "bc464864-8eb6-4ae2-96e3-ac24206009cc",
   "metadata": {},
   "outputs": [],
   "source": [
    "# Plot accuracy vs. k\n",
    "plt.plot(k_values, accuracies, marker='o')\n",
    "plt.title('Accuracy vs. k in kNN Classifier')\n",
    "plt.xlabel('k')\n",
    "plt.ylabel('Accuracy')\n",
    "plt.grid(True)\n",
    "plt.show()"
   ]
  },
  {
   "cell_type": "code",
   "execution_count": null,
   "id": "ffef3208-21ce-4c8e-a22b-a7aff18566ec",
   "metadata": {},
   "outputs": [],
   "source": [
    "from sklearn.metrics import confusion_matrix, precision_score, recall_score, f1_score, classification_report\n",
    "import seaborn as sns"
   ]
  },
  {
   "cell_type": "code",
   "execution_count": null,
   "id": "1cad80b8-f2cb-4e07-b3fc-0060411646e7",
   "metadata": {},
   "outputs": [],
   "source": [
    "# Create a kNN classifier with k=3\n",
    "neigh = KNeighborsClassifier(n_neighbors=3)\n",
    "\n",
    "# Train the classifier using the training data\n",
    "neigh.fit(X_train, y_train)\n",
    "\n",
    "# Predict on both training and testing sets\n",
    "y_train_pred = neigh.predict(X_train)\n",
    "y_test_pred = neigh.predict(X_test)"
   ]
  },
  {
   "cell_type": "code",
   "execution_count": null,
   "id": "1114a657-9f00-494d-8af6-a2e3601387dd",
   "metadata": {},
   "outputs": [],
   "source": [
    "# Confusion matrix for training data\n",
    "cm_train = confusion_matrix(y_train, y_train_pred)\n",
    "print(\"Confusion Matrix - Training Data:\\n\", cm_train)\n",
    "\n",
    "# Confusion matrix for test data\n",
    "cm_test = confusion_matrix(y_test, y_test_pred)\n",
    "print(\"Confusion Matrix - Test Data:\\n\", cm_test)\n",
    "\n",
    "# Calculate precision, recall, and F1-score for training data\n",
    "print(\"\\nClassification Report - Training Data:\")\n",
    "print(classification_report(y_train, y_train_pred))\n",
    "\n",
    "# Calculate precision, recall, and F1-score for test data\n",
    "print(\"\\nClassification Report - Test Data:\")\n",
    "print(classification_report(y_test, y_test_pred))\n",
    "\n",
    "# Plot confusion matrix\n",
    "fig, ax = plt.subplots(1, 2, figsize=(12, 5))\n",
    "sns.heatmap(cm_train, annot=True, fmt='d', cmap='Blues', ax=ax[0])\n",
    "ax[0].set_title('Confusion Matrix - Training Data')\n",
    "ax[0].set_xlabel('Predicted')\n",
    "ax[0].set_ylabel('Actual')\n",
    "\n",
    "sns.heatmap(cm_test, annot=True, fmt='d', cmap='Blues', ax=ax[1])\n",
    "ax[1].set_title('Confusion Matrix - Test Data')\n",
    "ax[1].set_xlabel('Predicted')\n",
    "ax[1].set_ylabel('Actual')"
   ]
  },
  {
   "cell_type": "code",
   "execution_count": null,
   "id": "fc10e911-d397-4682-8059-f4c87f15e708",
   "metadata": {},
   "outputs": [],
   "source": []
  }
 ],
 "metadata": {
  "kernelspec": {
   "display_name": "Python 3 (ipykernel)",
   "language": "python",
   "name": "python3"
  },
  "language_info": {
   "codemirror_mode": {
    "name": "ipython",
    "version": 3
   },
   "file_extension": ".py",
   "mimetype": "text/x-python",
   "name": "python",
   "nbconvert_exporter": "python",
   "pygments_lexer": "ipython3",
   "version": "3.11.7"
  }
 },
 "nbformat": 4,
 "nbformat_minor": 5
}
